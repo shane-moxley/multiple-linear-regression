{
 "cells": [
  {
   "cell_type": "markdown",
   "metadata": {
    "id": "9XGnZa1JYVEt"
   },
   "source": [
    "Imports the libraries and file we will use to implement linear regression problem."
   ]
  },
  {
   "cell_type": "code",
   "execution_count": 1,
   "metadata": {
    "colab": {
     "base_uri": "https://localhost:8080/",
     "height": 73
    },
    "id": "6AG6IXmEQLyr",
    "outputId": "90e2d4db-c390-4428-bbc0-8ade994d35be"
   },
   "outputs": [],
   "source": [
    "import pandas as pd\n",
    "import matplotlib.pyplot as plt\n",
    "import numpy as np\n",
    "import functions"
   ]
  },
  {
   "cell_type": "markdown",
   "metadata": {
    "id": "xYoK_BcXYcqx"
   },
   "source": [
    "Converts imported csv into a pandas dataframe."
   ]
  },
  {
   "cell_type": "code",
   "execution_count": 2,
   "metadata": {
    "colab": {
     "base_uri": "https://localhost:8080/"
    },
    "id": "C8N-NaGYReyn",
    "outputId": "1b65c269-1f18-4747-a2e9-7273885fc7c6"
   },
   "outputs": [],
   "source": [
    "#specifies file and target variable specific to this use\n",
    "filename = 'cars.csv'\n",
    "target = 'mpg'\n",
    "\n",
    "#creates feature and target matrix\n",
    "X = pd.read_csv(filename)\n",
    "X = X.drop(columns=[target])\n",
    "y = pd.read_csv(filename, usecols=[target])"
   ]
  },
  {
   "cell_type": "markdown",
   "metadata": {
    "id": "W2wLy6jdYhTt"
   },
   "source": [
    "Gradient Descent Algorithm for learning a multiple linear regression hypothesis."
   ]
  },
  {
   "cell_type": "code",
   "execution_count": 3,
   "metadata": {
    "colab": {
     "base_uri": "https://localhost:8080/"
    },
    "id": "-v3F84ZIhMsZ",
    "outputId": "3eab9bf9-6921-4952-8315-aca7e78febda"
   },
   "outputs": [
    {
     "name": "stdout",
     "output_type": "stream",
     "text": [
      "Hypothesis from Gradient Descent Algorithm: \n",
      "20.090625000000003 + -0.12249700695373632x₁ + 1.5482369908184683x₂ + -1.3944630090051295x₃ + 0.45367275097066107x₄ + -3.617873408962054x₅ + 1.5035868288926781x₆ + 0.11923896934529975x₇ + 1.2111501366558919x₈ + 0.46058263545806344x₉ + -0.32659605331337366x₁₀\n",
      "\n",
      "Cost of hypothesis learned from the Gradient Descent Algorithm:  2.305800333471583\n"
     ]
    }
   ],
   "source": [
    "#learns hypothesis using GDA\n",
    "parameters = functions.gradient_descent(X, y)\n",
    "\n",
    "#hypothesis\n",
    "hypothesis = str(parameters[0]) + \" + \" + str(parameters[1]) + \"x\\N{SUBSCRIPT ONE} + \" + str(parameters[2]) + \\\n",
    "\"x\\N{SUBSCRIPT TWO} + \" + str(parameters[3]) + \"x\\N{SUBSCRIPT THREE} + \" + str(parameters[4]) + \"x\\N{SUBSCRIPT FOUR} + \" \\\n",
    "+ str(parameters[5]) + \"x\\N{SUBSCRIPT FIVE} + \" + str(parameters[6]) + \"x\\N{SUBSCRIPT SIX} + \" + str(parameters[7]) + \\\n",
    "\"x\\N{SUBSCRIPT SEVEN} + \" + str(parameters[8]) + \"x\\N{SUBSCRIPT EIGHT} + \" + str(parameters[9]) + \"x\\N{SUBSCRIPT NINE} + \" \\\n",
    "+ str(parameters[10]) + \"x\\N{SUBSCRIPT ONE}\\N{SUBSCRIPT ZERO}\"\n",
    "\n",
    "print(\"Hypothesis from Gradient Descent Algorithm: \\n\" + hypothesis)\n",
    "\n",
    "#cost\n",
    "cost = 0\n",
    "for i in range(len(X)):\n",
    "    temp = parameters[0]\n",
    "    for j in range(len(X.columns)):\n",
    "        temp += X[X.columns[j]][i] * parameters[j + 1]\n",
    "    temp -= y[y.columns[0]][i]\n",
    "    temp = temp**2\n",
    "    cost += temp\n",
    "cost *= 1 / (2 * len(X))\n",
    "print(\"\\nCost of hypothesis learned from the Gradient Descent Algorithm: \", cost)"
   ]
  },
  {
   "cell_type": "markdown",
   "metadata": {},
   "source": [
    "Normal equations for learning a multiple linear regression hypothesis."
   ]
  },
  {
   "cell_type": "code",
   "execution_count": 4,
   "metadata": {},
   "outputs": [
    {
     "name": "stdout",
     "output_type": "stream",
     "text": [
      "Hypothesis learned from Normal Equations Method: \n",
      "20.090625 + -0.19588953029544598x₁ + 1.626722996096973x₂ + -1.4496793565429513x₃ + 0.41422350288492105x₄ + -3.578014907846736x₅ + 1.4440469951151584x₆ + 0.1576352591697443x₇ + 1.2377648312200904x₈ + 0.47595069375850585x₉ + -0.31702918689083504x₁₀\n",
      "\n",
      "Cost of hypothesis learned from Normal Equations Method:  2.3046004690101674\n"
     ]
    }
   ],
   "source": [
    "params = functions.normal_equations(X, y)\n",
    "\n",
    "param1 = params[0]\n",
    "param2 = params[1]\n",
    "param3 = params[2]\n",
    "param4 = params[3]\n",
    "param5 = params[4]\n",
    "param6 = params[5]\n",
    "param7 = params[6]\n",
    "param8 = params[7]\n",
    "param9 = params[8]\n",
    "param10 = params[9]\n",
    "param11 = params[10]\n",
    "\n",
    "#hypothesis\n",
    "hypothesis = str(param1[0]) + \" + \" + str(param2[0]) + \"x\\N{SUBSCRIPT ONE} + \" + str(param3[0]) + \\\n",
    "\"x\\N{SUBSCRIPT TWO} + \" + str(param4[0]) + \"x\\N{SUBSCRIPT THREE} + \" + str(param5[0]) + \"x\\N{SUBSCRIPT FOUR} + \" \\\n",
    "+ str(param6[0]) + \"x\\N{SUBSCRIPT FIVE} + \" + str(param7[0]) + \"x\\N{SUBSCRIPT SIX} + \" + str(param8[0]) + \\\n",
    "\"x\\N{SUBSCRIPT SEVEN} + \" + str(param9[0]) + \"x\\N{SUBSCRIPT EIGHT} + \" + str(param10[0]) + \"x\\N{SUBSCRIPT NINE} + \" \\\n",
    "+ str(param11[0]) + \"x\\N{SUBSCRIPT ONE}\\N{SUBSCRIPT ZERO}\"\n",
    "print(\"Hypothesis learned from Normal Equations Method: \\n\" + hypothesis)\n",
    "\n",
    "#cost\n",
    "cost = 0\n",
    "for i in range(len(X)):\n",
    "    temp = 0\n",
    "    j = 0\n",
    "    for feature in X.columns:\n",
    "        temp += X[feature][i] * params[j]\n",
    "        j += 1\n",
    "    temp -= y[y.columns[0]][i]\n",
    "    temp = temp**2\n",
    "    cost += temp\n",
    "cost *= 1 / (2 * len(X))\n",
    "print(\"\\nCost of hypothesis learned from Normal Equations Method: \", cost[0])"
   ]
  }
 ],
 "metadata": {
  "colab": {
   "provenance": []
  },
  "kernelspec": {
   "display_name": "Python 3 (ipykernel)",
   "language": "python",
   "name": "python3"
  },
  "language_info": {
   "codemirror_mode": {
    "name": "ipython",
    "version": 3
   },
   "file_extension": ".py",
   "mimetype": "text/x-python",
   "name": "python",
   "nbconvert_exporter": "python",
   "pygments_lexer": "ipython3",
   "version": "3.10.9"
  }
 },
 "nbformat": 4,
 "nbformat_minor": 1
}
