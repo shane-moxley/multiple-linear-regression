{
 "cells": [
  {
   "cell_type": "markdown",
   "metadata": {
    "id": "9XGnZa1JYVEt"
   },
   "source": [
    "Imports the libraries and file we will use to multiple implement linear regression problem driver."
   ]
  },
  {
   "cell_type": "code",
   "execution_count": 1,
   "metadata": {
    "colab": {
     "base_uri": "https://localhost:8080/",
     "height": 73
    },
    "id": "6AG6IXmEQLyr",
    "outputId": "90e2d4db-c390-4428-bbc0-8ade994d35be"
   },
   "outputs": [],
   "source": [
    "import pandas as pd\n",
    "import functions"
   ]
  },
  {
   "cell_type": "markdown",
   "metadata": {
    "id": "xYoK_BcXYcqx"
   },
   "source": [
    "Converts imported csv into a feature and target matrix."
   ]
  },
  {
   "cell_type": "code",
   "execution_count": 2,
   "metadata": {
    "colab": {
     "base_uri": "https://localhost:8080/"
    },
    "id": "C8N-NaGYReyn",
    "outputId": "1b65c269-1f18-4747-a2e9-7273885fc7c6"
   },
   "outputs": [],
   "source": [
    "#specifies file and target variable specific to this use\n",
    "filename = 'cars.csv'\n",
    "target = 'mpg'\n",
    "\n",
    "#creates feature and target matrix\n",
    "X = pd.read_csv(filename)\n",
    "X = X.drop(columns=[target])\n",
    "y = pd.read_csv(filename, usecols=[target])"
   ]
  },
  {
   "cell_type": "markdown",
   "metadata": {},
   "source": [
    "Scales features using mean normalization."
   ]
  },
  {
   "cell_type": "code",
   "execution_count": 3,
   "metadata": {},
   "outputs": [
    {
     "data": {
      "text/html": [
       "<div>\n",
       "<style scoped>\n",
       "    .dataframe tbody tr th:only-of-type {\n",
       "        vertical-align: middle;\n",
       "    }\n",
       "\n",
       "    .dataframe tbody tr th {\n",
       "        vertical-align: top;\n",
       "    }\n",
       "\n",
       "    .dataframe thead th {\n",
       "        text-align: right;\n",
       "    }\n",
       "</style>\n",
       "<table border=\"1\" class=\"dataframe\">\n",
       "  <thead>\n",
       "    <tr style=\"text-align: right;\">\n",
       "      <th></th>\n",
       "      <th>scaled_cyl</th>\n",
       "      <th>scaled_disp</th>\n",
       "      <th>scaled_hp</th>\n",
       "      <th>scaled_drat</th>\n",
       "      <th>scaled_wt</th>\n",
       "      <th>scaled_qsec</th>\n",
       "      <th>scaled_vs</th>\n",
       "      <th>scaled_am</th>\n",
       "      <th>scaled_gear</th>\n",
       "      <th>scaled_carb</th>\n",
       "    </tr>\n",
       "  </thead>\n",
       "  <tbody>\n",
       "    <tr>\n",
       "      <th>0</th>\n",
       "      <td>-0.106668</td>\n",
       "      <td>-0.579750</td>\n",
       "      <td>-0.543655</td>\n",
       "      <td>0.576594</td>\n",
       "      <td>-0.620167</td>\n",
       "      <td>-0.789601</td>\n",
       "      <td>-0.881917</td>\n",
       "      <td>1.208941</td>\n",
       "      <td>0.430331</td>\n",
       "      <td>0.746967</td>\n",
       "    </tr>\n",
       "    <tr>\n",
       "      <th>1</th>\n",
       "      <td>-0.106668</td>\n",
       "      <td>-0.579750</td>\n",
       "      <td>-0.543655</td>\n",
       "      <td>0.576594</td>\n",
       "      <td>-0.355382</td>\n",
       "      <td>-0.471202</td>\n",
       "      <td>-0.881917</td>\n",
       "      <td>1.208941</td>\n",
       "      <td>0.430331</td>\n",
       "      <td>0.746967</td>\n",
       "    </tr>\n",
       "    <tr>\n",
       "      <th>2</th>\n",
       "      <td>-1.244457</td>\n",
       "      <td>-1.006026</td>\n",
       "      <td>-0.795570</td>\n",
       "      <td>0.481584</td>\n",
       "      <td>-0.931678</td>\n",
       "      <td>0.432823</td>\n",
       "      <td>1.133893</td>\n",
       "      <td>1.208941</td>\n",
       "      <td>0.430331</td>\n",
       "      <td>-1.140108</td>\n",
       "    </tr>\n",
       "    <tr>\n",
       "      <th>3</th>\n",
       "      <td>-0.106668</td>\n",
       "      <td>0.223615</td>\n",
       "      <td>-0.543655</td>\n",
       "      <td>-0.981576</td>\n",
       "      <td>-0.002336</td>\n",
       "      <td>0.904736</td>\n",
       "      <td>1.133893</td>\n",
       "      <td>-0.827170</td>\n",
       "      <td>-0.946729</td>\n",
       "      <td>-1.140108</td>\n",
       "    </tr>\n",
       "    <tr>\n",
       "      <th>4</th>\n",
       "      <td>1.031121</td>\n",
       "      <td>1.059772</td>\n",
       "      <td>0.419550</td>\n",
       "      <td>-0.848562</td>\n",
       "      <td>0.231297</td>\n",
       "      <td>-0.471202</td>\n",
       "      <td>-0.881917</td>\n",
       "      <td>-0.827170</td>\n",
       "      <td>-0.946729</td>\n",
       "      <td>-0.511083</td>\n",
       "    </tr>\n",
       "  </tbody>\n",
       "</table>\n",
       "</div>"
      ],
      "text/plain": [
       "   scaled_cyl  scaled_disp  scaled_hp  scaled_drat  scaled_wt  scaled_qsec  \\\n",
       "0   -0.106668    -0.579750  -0.543655     0.576594  -0.620167    -0.789601   \n",
       "1   -0.106668    -0.579750  -0.543655     0.576594  -0.355382    -0.471202   \n",
       "2   -1.244457    -1.006026  -0.795570     0.481584  -0.931678     0.432823   \n",
       "3   -0.106668     0.223615  -0.543655    -0.981576  -0.002336     0.904736   \n",
       "4    1.031121     1.059772   0.419550    -0.848562   0.231297    -0.471202   \n",
       "\n",
       "   scaled_vs  scaled_am  scaled_gear  scaled_carb  \n",
       "0  -0.881917   1.208941     0.430331     0.746967  \n",
       "1  -0.881917   1.208941     0.430331     0.746967  \n",
       "2   1.133893   1.208941     0.430331    -1.140108  \n",
       "3   1.133893  -0.827170    -0.946729    -1.140108  \n",
       "4  -0.881917  -0.827170    -0.946729    -0.511083  "
      ]
     },
     "execution_count": 3,
     "metadata": {},
     "output_type": "execute_result"
    }
   ],
   "source": [
    "scaled_X = functions.mean_normalize(X)\n",
    "scaled_X.head()"
   ]
  },
  {
   "cell_type": "markdown",
   "metadata": {
    "id": "W2wLy6jdYhTt"
   },
   "source": [
    "Gradient Descent Algorithm for learning a multiple linear regression hypothesis."
   ]
  },
  {
   "cell_type": "code",
   "execution_count": 4,
   "metadata": {
    "colab": {
     "base_uri": "https://localhost:8080/"
    },
    "id": "-v3F84ZIhMsZ",
    "outputId": "3eab9bf9-6921-4952-8315-aca7e78febda"
   },
   "outputs": [
    {
     "name": "stdout",
     "output_type": "stream",
     "text": [
      "Hypothesis from Gradient Descent Algorithm: \n",
      "20.093448271852694 + -0.12325388440229428x₁ + 1.5482660838273496x₂ + -1.3942851560816778x₃ + 0.45353199047260473x₄ + -3.618178519933601x₅ + 1.5033207954239123x₆ + 0.11906446164644506x₇ + 1.2108423986481567x₈ + 0.4602784465885032x₉ + -0.3264296001139695x₁₀\n",
      "\n",
      "Cost of hypothesis learned from Gradient Descent Algorithm:  609.7617676836777\n"
     ]
    }
   ],
   "source": [
    "#learns hypothesis using GDA\n",
    "params = functions.gradient_descent(scaled_X, y)\n",
    "\n",
    "#hypothesis\n",
    "hypothesis = str(params[0]) + \" + \" + str(params[1]) + \"x\\N{SUBSCRIPT ONE} + \" + str(params[2]) + \\\n",
    "\"x\\N{SUBSCRIPT TWO} + \" + str(params[3]) + \"x\\N{SUBSCRIPT THREE} + \" + str(params[4]) + \"x\\N{SUBSCRIPT FOUR} + \" \\\n",
    "+ str(params[5]) + \"x\\N{SUBSCRIPT FIVE} + \" + str(params[6]) + \"x\\N{SUBSCRIPT SIX} + \" + str(params[7]) + \\\n",
    "\"x\\N{SUBSCRIPT SEVEN} + \" + str(params[8]) + \"x\\N{SUBSCRIPT EIGHT} + \" + str(params[9]) + \"x\\N{SUBSCRIPT NINE} + \" \\\n",
    "+ str(params[10]) + \"x\\N{SUBSCRIPT ONE}\\N{SUBSCRIPT ZERO}\"\n",
    "\n",
    "print(\"Hypothesis from Gradient Descent Algorithm: \\n\" + hypothesis)\n",
    "\n",
    "#cost\n",
    "cost = 0\n",
    "for i in range(len(scaled_X)):\n",
    "    temp = 0\n",
    "    j = 0\n",
    "    for feature in scaled_X.columns:\n",
    "        temp += scaled_X[feature][i] * params[j]\n",
    "        j += 1\n",
    "    temp -= y[y.columns[0]][i]\n",
    "    temp = temp**2\n",
    "    cost += temp\n",
    "cost *= 1 / (2 * len(scaled_X))\n",
    "print(\"\\nCost of hypothesis learned from Gradient Descent Algorithm: \", cost)"
   ]
  },
  {
   "cell_type": "markdown",
   "metadata": {},
   "source": [
    "Normal equations for learning a multiple linear regression hypothesis."
   ]
  },
  {
   "cell_type": "code",
   "execution_count": 5,
   "metadata": {},
   "outputs": [
    {
     "name": "stdout",
     "output_type": "stream",
     "text": [
      "Hypothesis learned from Normal Equations Method: \n",
      "20.090625 + -0.19588953029541756x₁ + 1.6267229960970013x₂ + -1.4496793565429984x₃ + 0.4142235028849246x₄ + -3.578014907846736x₅ + 1.444046995115162x₆ + 0.15763525916975318x₇ + 1.2377648312200913x₈ + 0.47595069375850585x₉ + -0.3170291868908137x₁₀\n",
      "\n",
      "Cost of hypothesis learned from Normal Equations Method:  610.0728874189423\n"
     ]
    }
   ],
   "source": [
    "params = functions.normal_equations(scaled_X, y)\n",
    "\n",
    "param1 = params[0]\n",
    "param2 = params[1]\n",
    "param3 = params[2]\n",
    "param4 = params[3]\n",
    "param5 = params[4]\n",
    "param6 = params[5]\n",
    "param7 = params[6]\n",
    "param8 = params[7]\n",
    "param9 = params[8]\n",
    "param10 = params[9]\n",
    "param11 = params[10]\n",
    "\n",
    "#hypothesis\n",
    "hypothesis = str(param1[0]) + \" + \" + str(param2[0]) + \"x\\N{SUBSCRIPT ONE} + \" + str(param3[0]) + \\\n",
    "\"x\\N{SUBSCRIPT TWO} + \" + str(param4[0]) + \"x\\N{SUBSCRIPT THREE} + \" + str(param5[0]) + \"x\\N{SUBSCRIPT FOUR} + \" \\\n",
    "+ str(param6[0]) + \"x\\N{SUBSCRIPT FIVE} + \" + str(param7[0]) + \"x\\N{SUBSCRIPT SIX} + \" + str(param8[0]) + \\\n",
    "\"x\\N{SUBSCRIPT SEVEN} + \" + str(param9[0]) + \"x\\N{SUBSCRIPT EIGHT} + \" + str(param10[0]) + \"x\\N{SUBSCRIPT NINE} + \" \\\n",
    "+ str(param11[0]) + \"x\\N{SUBSCRIPT ONE}\\N{SUBSCRIPT ZERO}\"\n",
    "print(\"Hypothesis learned from Normal Equations Method: \\n\" + hypothesis)\n",
    "\n",
    "#cost\n",
    "cost = 0\n",
    "for i in range(len(scaled_X)):\n",
    "    temp = 0\n",
    "    j = 0\n",
    "    for feature in scaled_X.columns:\n",
    "        temp += scaled_X[feature][i] * params[j]\n",
    "        j += 1\n",
    "    temp -= y[y.columns[0]][i]\n",
    "    temp = temp**2\n",
    "    cost += temp\n",
    "cost *= 1 / (2 * len(scaled_X))\n",
    "print(\"\\nCost of hypothesis learned from Normal Equations Method: \", cost[0])"
   ]
  }
 ],
 "metadata": {
  "colab": {
   "provenance": []
  },
  "kernelspec": {
   "display_name": "Python 3 (ipykernel)",
   "language": "python",
   "name": "python3"
  },
  "language_info": {
   "codemirror_mode": {
    "name": "ipython",
    "version": 3
   },
   "file_extension": ".py",
   "mimetype": "text/x-python",
   "name": "python",
   "nbconvert_exporter": "python",
   "pygments_lexer": "ipython3",
   "version": "3.10.9"
  }
 },
 "nbformat": 4,
 "nbformat_minor": 1
}
